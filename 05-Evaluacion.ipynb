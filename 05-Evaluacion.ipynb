{
 "cells": [
  {
   "cell_type": "markdown",
   "metadata": {},
   "source": [
    "**Recuerde no agregar o quitar celdas en este notebook, ni modificar su tipo. Si lo hace, el sistema automaticamente lo calificará con cero punto cero (0.0)**"
   ]
  },
  {
   "cell_type": "markdown",
   "metadata": {},
   "source": [
    "Obtenga la cantidad de registros por letra para el siguiente archivo."
   ]
  },
  {
   "cell_type": "code",
   "execution_count": 5,
   "metadata": {},
   "outputs": [
    {
     "name": "stdout",
     "output_type": "stream",
     "text": [
      "Overwriting input.txt\n"
     ]
    }
   ],
   "source": [
    "%%writefile input.txt\n",
    "B   1999-08-28   14\n",
    "E   1999-12-06   12\n",
    "E   1993-07-21   17\n",
    "C   1991-02-12   13\n",
    "E   1995-04-25   16\n",
    "A   1992-08-22   14\n",
    "B   1999-06-11   12\n",
    "E   1993-01-27   13\n",
    "E   1999-09-10   11\n",
    "E   1990-05-03   16\n",
    "E   1994-02-14   10\n",
    "A   1988-04-27   12\n",
    "A   1990-10-06   10\n",
    "E   1985-02-12   16\n",
    "E   1998-09-14   16\n",
    "B   1994-08-30   17\n",
    "A   1997-12-15   13\n",
    "B   1995-08-23   10\n",
    "B   1998-11-22   13\n",
    "B   1997-04-09   14\n",
    "E   1993-12-27   18\n",
    "E   1999-01-14   15\n",
    "A   1992-09-19   18\n",
    "B   1993-03-02   14\n",
    "B   1999-10-21   13\n",
    "A   1990-08-31   12\n",
    "C   1994-01-25   10\n",
    "E   1990-02-09   18\n",
    "A   1990-09-26   14\n",
    "A   1993-05-08   16\n",
    "B   1995-09-06   14\n",
    "E   1991-02-18   14\n",
    "A   1993-01-11   14\n",
    "A   1990-07-22   18\n",
    "C   1994-09-09   15\n",
    "C   1994-07-27   10\n",
    "D   1990-10-10   15\n",
    "A   1990-09-05   11\n",
    "B   1991-10-01   15\n",
    "A   1994-10-25   13"
   ]
  },
  {
   "cell_type": "markdown",
   "metadata": {},
   "source": [
    "## Mapper"
   ]
  },
  {
   "cell_type": "code",
   "execution_count": 2,
   "metadata": {},
   "outputs": [
    {
     "name": "stdout",
     "output_type": "stream",
     "text": [
      "Writing mapper.py\n"
     ]
    }
   ],
   "source": [
    "%%writefile mapper.py\n",
    "#! /usr/bin/env python\n",
    "\n",
    "import sys\n",
    "\n",
    "for line in sys.stdin:\n",
    "    lineas = line.split()\n",
    "    letra = lineas[0]\n",
    "    print \"%s\\t%s\" % (letra, 1)"
   ]
  },
  {
   "cell_type": "markdown",
   "metadata": {},
   "source": [
    "## Reducer"
   ]
  },
  {
   "cell_type": "code",
   "execution_count": 3,
   "metadata": {},
   "outputs": [
    {
     "name": "stdout",
     "output_type": "stream",
     "text": [
      "Writing reducer.py\n"
     ]
    }
   ],
   "source": [
    "%%writefile reducer.py\n",
    "#!/usr/bin/env python\n",
    "\n",
    "import sys\n",
    "\n",
    "clave_actual = None\n",
    "conteo = 0\n",
    "clave = None\n",
    "\n",
    "for line in sys.stdin:\n",
    "    clave,valor = line.split(\"\\t\")\n",
    "    valor = int(valor)\n",
    "    \n",
    "    if clave_actual == clave:\n",
    "       \n",
    "        conteo += valor\n",
    "        \n",
    "    else:\n",
    "         \n",
    "        if clave_actual is not None:   \n",
    "        \n",
    "           print \"%s\\t%s\" % (clave_actual, conteo)      \n",
    "        \n",
    "        \n",
    "        \n",
    "        clave_actual = clave\n",
    "        conteo = valor\n",
    " \n",
    "if clave_actual == clave:\n",
    "    print \"%s\\t%s\" % (clave_actual, conteo) \n",
    "    "
   ]
  },
  {
   "cell_type": "markdown",
   "metadata": {},
   "source": [
    "## Ejecución"
   ]
  },
  {
   "cell_type": "code",
   "execution_count": 4,
   "metadata": {},
   "outputs": [
    {
     "name": "stderr",
     "output_type": "stream",
     "text": [
      "java.net.UnknownHostException: DESKTOP-VDECICM: DESKTOP-VDECICM: Fallo temporal en la resolución del nombre\n",
      "\tat java.net.InetAddress.getLocalHost(InetAddress.java:1505)\n",
      "\tat org.apache.hadoop.streaming.Environment.getHost(Environment.java:124)\n",
      "\tat org.apache.hadoop.streaming.StreamUtil.<clinit>(StreamUtil.java:181)\n",
      "\tat org.apache.hadoop.streaming.StreamJob.setJobConf(StreamJob.java:824)\n",
      "\tat org.apache.hadoop.streaming.StreamJob.run(StreamJob.java:126)\n",
      "\tat org.apache.hadoop.util.ToolRunner.run(ToolRunner.java:76)\n",
      "\tat org.apache.hadoop.util.ToolRunner.run(ToolRunner.java:90)\n",
      "\tat org.apache.hadoop.streaming.HadoopStreaming.main(HadoopStreaming.java:50)\n",
      "\tat sun.reflect.NativeMethodAccessorImpl.invoke0(Native Method)\n",
      "\tat sun.reflect.NativeMethodAccessorImpl.invoke(NativeMethodAccessorImpl.java:62)\n",
      "\tat sun.reflect.DelegatingMethodAccessorImpl.invoke(DelegatingMethodAccessorImpl.java:43)\n",
      "\tat java.lang.reflect.Method.invoke(Method.java:498)\n",
      "\tat org.apache.hadoop.util.RunJar.run(RunJar.java:318)\n",
      "\tat org.apache.hadoop.util.RunJar.main(RunJar.java:232)\n",
      "Caused by: java.net.UnknownHostException: DESKTOP-VDECICM: Fallo temporal en la resolución del nombre\n",
      "\tat java.net.Inet6AddressImpl.lookupAllHostAddr(Native Method)\n",
      "\tat java.net.InetAddress$2.lookupAllHostAddr(InetAddress.java:928)\n",
      "\tat java.net.InetAddress.getAddressesFromNameService(InetAddress.java:1323)\n",
      "\tat java.net.InetAddress.getLocalHost(InetAddress.java:1500)\n",
      "\t... 13 more\n",
      "2018-11-16 17:40:09,509 ERROR impl.MetricsSystemImpl: Error getting localhost name. Using 'localhost'...\n",
      "java.net.UnknownHostException: DESKTOP-VDECICM: DESKTOP-VDECICM: Fallo temporal en la resolución del nombre\n",
      "\tat java.net.InetAddress.getLocalHost(InetAddress.java:1505)\n",
      "\tat org.apache.hadoop.metrics2.impl.MetricsSystemImpl.getHostname(MetricsSystemImpl.java:549)\n",
      "\tat org.apache.hadoop.metrics2.impl.MetricsSystemImpl.configureSystem(MetricsSystemImpl.java:485)\n",
      "\tat org.apache.hadoop.metrics2.impl.MetricsSystemImpl.configure(MetricsSystemImpl.java:481)\n",
      "\tat org.apache.hadoop.metrics2.impl.MetricsSystemImpl.start(MetricsSystemImpl.java:188)\n",
      "\tat org.apache.hadoop.metrics2.impl.MetricsSystemImpl.init(MetricsSystemImpl.java:163)\n",
      "\tat org.apache.hadoop.metrics2.lib.DefaultMetricsSystem.init(DefaultMetricsSystem.java:62)\n",
      "\tat org.apache.hadoop.metrics2.lib.DefaultMetricsSystem.initialize(DefaultMetricsSystem.java:58)\n",
      "\tat org.apache.hadoop.mapred.LocalJobRunnerMetrics.create(LocalJobRunnerMetrics.java:45)\n",
      "\tat org.apache.hadoop.mapred.LocalJobRunner.<init>(LocalJobRunner.java:771)\n",
      "\tat org.apache.hadoop.mapred.LocalJobRunner.<init>(LocalJobRunner.java:764)\n",
      "\tat org.apache.hadoop.mapred.LocalClientProtocolProvider.create(LocalClientProtocolProvider.java:42)\n",
      "\tat org.apache.hadoop.mapreduce.Cluster.initialize(Cluster.java:130)\n",
      "\tat org.apache.hadoop.mapreduce.Cluster.<init>(Cluster.java:109)\n",
      "\tat org.apache.hadoop.mapreduce.Cluster.<init>(Cluster.java:102)\n",
      "\tat org.apache.hadoop.mapred.JobClient.init(JobClient.java:475)\n",
      "\tat org.apache.hadoop.mapred.JobClient.<init>(JobClient.java:454)\n",
      "\tat org.apache.hadoop.streaming.StreamJob.submitAndMonitorJob(StreamJob.java:1013)\n",
      "\tat org.apache.hadoop.streaming.StreamJob.run(StreamJob.java:133)\n",
      "\tat org.apache.hadoop.util.ToolRunner.run(ToolRunner.java:76)\n",
      "\tat org.apache.hadoop.util.ToolRunner.run(ToolRunner.java:90)\n",
      "\tat org.apache.hadoop.streaming.HadoopStreaming.main(HadoopStreaming.java:50)\n",
      "\tat sun.reflect.NativeMethodAccessorImpl.invoke0(Native Method)\n",
      "\tat sun.reflect.NativeMethodAccessorImpl.invoke(NativeMethodAccessorImpl.java:62)\n",
      "\tat sun.reflect.DelegatingMethodAccessorImpl.invoke(DelegatingMethodAccessorImpl.java:43)\n",
      "\tat java.lang.reflect.Method.invoke(Method.java:498)\n",
      "\tat org.apache.hadoop.util.RunJar.run(RunJar.java:318)\n",
      "\tat org.apache.hadoop.util.RunJar.main(RunJar.java:232)\n",
      "Caused by: java.net.UnknownHostException: DESKTOP-VDECICM: Fallo temporal en la resolución del nombre\n",
      "\tat java.net.Inet6AddressImpl.lookupAllHostAddr(Native Method)\n",
      "\tat java.net.InetAddress$2.lookupAllHostAddr(InetAddress.java:928)\n",
      "\tat java.net.InetAddress.getAddressesFromNameService(InetAddress.java:1323)\n",
      "\tat java.net.InetAddress.getLocalHost(InetAddress.java:1500)\n",
      "\t... 27 more\n",
      "2018-11-16 17:40:09,553 ERROR streaming.StreamJob: Error Launching job : DESKTOP-VDECICM: DESKTOP-VDECICM: Fallo temporal en la resolución del nombre\n",
      "Streaming Command Failed!\n",
      "cat: output/part-00000: No existe el archivo o el directorio\n"
     ]
    }
   ],
   "source": [
    "%%bash\n",
    "rm -rf output\n",
    "STREAM=$HADOOP_HOME/share/hadoop/tools/lib/hadoop-streaming-*.jar\n",
    "chmod +x mapper.py\n",
    "chmod +x reducer.py\n",
    "hadoop jar $STREAM -input input.txt -output output  -mapper mapper.py -reducer reducer.py\n",
    "cat output/part-00000"
   ]
  },
  {
   "cell_type": "code",
   "execution_count": 5,
   "metadata": {},
   "outputs": [],
   "source": [
    "!rm -rf mapper.py reducer.py output input.txt"
   ]
  },
  {
   "cell_type": "markdown",
   "metadata": {},
   "source": [
    "---"
   ]
  },
  {
   "cell_type": "markdown",
   "metadata": {},
   "source": [
    "Para realizar la evaluación automática de este libro:\n",
    "\n",
    "* Abra un Terminal.\n",
    "* Asegurece que esat en la misma carpeta que contiene este notebook.\n",
    "* Salve el notebook.\n",
    "* Ejecute el siguiente comando:\n",
    "\n",
    "      ./gradetool 05-Taller.ipynb"
   ]
  },
  {
   "cell_type": "markdown",
   "metadata": {},
   "source": [
    "---"
   ]
  }
 ],
 "metadata": {
  "kernelspec": {
   "display_name": "Python 2",
   "language": "python",
   "name": "python2"
  },
  "language_info": {
   "codemirror_mode": {
    "name": "ipython",
    "version": 2
   },
   "file_extension": ".py",
   "mimetype": "text/x-python",
   "name": "python",
   "nbconvert_exporter": "python",
   "pygments_lexer": "ipython2",
   "version": "2.7.12"
  },
  "toc": {
   "base_numbering": 1,
   "nav_menu": {},
   "number_sections": false,
   "sideBar": true,
   "skip_h1_title": true,
   "title_cell": "Table of Contents",
   "title_sidebar": "Contents",
   "toc_cell": false,
   "toc_position": {},
   "toc_section_display": true,
   "toc_window_display": true
  },
  "toc-autonumbering": false
 },
 "nbformat": 4,
 "nbformat_minor": 2
}
